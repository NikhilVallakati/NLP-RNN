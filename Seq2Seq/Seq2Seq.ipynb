{
  "nbformat": 4,
  "nbformat_minor": 0,
  "metadata": {
    "colab": {
      "name": "Seq2Seqipynb.ipynb",
      "provenance": []
    },
    "kernelspec": {
      "name": "python3",
      "display_name": "Python 3"
    },
    "accelerator": "GPU"
  },
  "cells": [
    {
      "cell_type": "code",
      "metadata": {
        "id": "8ZKaUHEYvpVS",
        "colab_type": "code",
        "outputId": "dda54afe-b7ab-4711-c7f3-7886249feee8",
        "colab": {
          "base_uri": "https://localhost:8080/",
          "height": 51
        }
      },
      "source": [
        "#import required library\n",
        "import math\n",
        "import dill\n",
        "\n",
        "import spacy\n",
        "import seaborn as sns\n",
        "import matplotlib.ticker as ticker\n",
        "\n",
        "import torch\n",
        "from torch import nn\n",
        "from torch import optim\n",
        "import torch.nn.functional as F\n",
        "\n",
        "from torchtext.datasets import TranslationDataset\n",
        "from torchtext.data import Field, BucketIterator, TabularDataset\n",
        "\n",
        "import time\n",
        "import random\n",
        "\n",
        "device = torch.device('cuda' if torch.cuda.is_available() else 'cpu')"
      ],
      "execution_count": 0,
      "outputs": [
        {
          "output_type": "stream",
          "text": [
            "/usr/local/lib/python3.6/dist-packages/statsmodels/tools/_testing.py:19: FutureWarning: pandas.util.testing is deprecated. Use the functions in the public API at pandas.testing instead.\n",
            "  import pandas.util.testing as tm\n"
          ],
          "name": "stderr"
        }
      ]
    },
    {
      "cell_type": "code",
      "metadata": {
        "id": "BY_YS-FFvxei",
        "colab_type": "code",
        "colab": {}
      },
      "source": [
        "def epoch_time(start_time, end_time):\n",
        "    elapsed_time = end_time - start_time\n",
        "    elapsed_mins = int(elapsed_time / 60)\n",
        "    elapsed_secs = int(elapsed_time - (elapsed_mins * 60))\n",
        "    return elapsed_mins, elapsed_secs"
      ],
      "execution_count": 0,
      "outputs": []
    },
    {
      "cell_type": "code",
      "metadata": {
        "id": "N8HVe0-2wZsb",
        "colab_type": "code",
        "colab": {}
      },
      "source": [
        "### initialize Field for source article and target summary\n",
        "ARTICLE = Field(tokenize='spacy',\n",
        "                init_token='<sos>',\n",
        "                eos_token='<eos>',\n",
        "                lower=True,\n",
        "                include_lengths=True\n",
        "                )\n",
        "SUMMARY = Field(tokenize='spacy',\n",
        "                init_token='<sos>',\n",
        "                eos_token='<eos>',\n",
        "                lower=True,\n",
        "                )"
      ],
      "execution_count": 0,
      "outputs": []
    },
    {
      "cell_type": "code",
      "metadata": {
        "id": "PSpDCy96wfdn",
        "colab_type": "code",
        "outputId": "0ada656a-5596-404c-fd99-2a8dadeca5db",
        "colab": {
          "resources": {
            "http://localhost:8080/nbextensions/google.colab/files.js": {
              "data": "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",
              "ok": true,
              "headers": [
                [
                  "content-type",
                  "application/javascript"
                ]
              ],
              "status": 200,
              "status_text": ""
            }
          },
          "base_uri": "https://localhost:8080/",
          "height": 142
        }
      },
      "source": [
        "from google.colab import files\n",
        "uploaded = files.upload()"
      ],
      "execution_count": 0,
      "outputs": [
        {
          "output_type": "display_data",
          "data": {
            "text/html": [
              "\n",
              "     <input type=\"file\" id=\"files-9d47639c-e8e5-41c9-945d-14447f06e095\" name=\"files[]\" multiple disabled />\n",
              "     <output id=\"result-9d47639c-e8e5-41c9-945d-14447f06e095\">\n",
              "      Upload widget is only available when the cell has been executed in the\n",
              "      current browser session. Please rerun this cell to enable.\n",
              "      </output>\n",
              "      <script src=\"/nbextensions/google.colab/files.js\"></script> "
            ],
            "text/plain": [
              "<IPython.core.display.HTML object>"
            ]
          },
          "metadata": {
            "tags": []
          }
        },
        {
          "output_type": "stream",
          "text": [
            "Saving test.csv to test.csv\n",
            "Saving train.csv to train.csv\n",
            "Saving val.csv to val.csv\n"
          ],
          "name": "stdout"
        }
      ]
    },
    {
      "cell_type": "code",
      "metadata": {
        "id": "NTIhlIc95Lz9",
        "colab_type": "code",
        "outputId": "91914fd9-97ab-411c-fbd3-a078bd9d814d",
        "colab": {
          "base_uri": "https://localhost:8080/",
          "height": 122
        }
      },
      "source": [
        "from google.colab import drive\n",
        "drive.mount('/content/gdrive')"
      ],
      "execution_count": 0,
      "outputs": [
        {
          "output_type": "stream",
          "text": [
            "Go to this URL in a browser: https://accounts.google.com/o/oauth2/auth?client_id=947318989803-6bn6qk8qdgf4n4g3pfee6491hc0brc4i.apps.googleusercontent.com&redirect_uri=urn%3aietf%3awg%3aoauth%3a2.0%3aoob&response_type=code&scope=email%20https%3a%2f%2fwww.googleapis.com%2fauth%2fdocs.test%20https%3a%2f%2fwww.googleapis.com%2fauth%2fdrive%20https%3a%2f%2fwww.googleapis.com%2fauth%2fdrive.photos.readonly%20https%3a%2f%2fwww.googleapis.com%2fauth%2fpeopleapi.readonly\n",
            "\n",
            "Enter your authorization code:\n",
            "··········\n",
            "Mounted at /content/gdrive\n"
          ],
          "name": "stdout"
        }
      ]
    },
    {
      "cell_type": "code",
      "metadata": {
        "id": "OZND_CZg2KfL",
        "colab_type": "code",
        "colab": {}
      },
      "source": [
        "#load train, test, val data\n",
        "train_data, valid_data, test_data = TabularDataset.splits(\n",
        "                                                    path = \"/content/gdrive/My Drive/Attention/data\",\n",
        "                                                    train= 'train.csv',\n",
        "                                                    validation='val.csv',\n",
        "                                                    test='test.csv', \n",
        "                                                    format='csv',\n",
        "                                                    fields=[(\"text\",ARTICLE),('headline',SUMMARY)]\n",
        "                                                        )"
      ],
      "execution_count": 0,
      "outputs": []
    },
    {
      "cell_type": "code",
      "metadata": {
        "id": "iqWcGkxH6Tck",
        "colab_type": "code",
        "colab": {}
      },
      "source": [
        "#set up vocab for article and summary from train data.\n",
        "ARTICLE.build_vocab(train_data, min_freq=2)\n",
        "SUMMARY.build_vocab(train_data, min_freq=2)"
      ],
      "execution_count": 0,
      "outputs": []
    },
    {
      "cell_type": "code",
      "metadata": {
        "id": "M_LV5hBr7Hca",
        "colab_type": "code",
        "colab": {}
      },
      "source": [
        "#Save article and summary field \n",
        "with open(\"/content/gdrive/My Drive/Attention/model/ARTICLE.Field\",\"wb\")as f:\n",
        "     dill.dump(ARTICLE,f)\n",
        "with open(\"/content/gdrive/My Drive/Attention/model/SUMMARY.Field\",\"wb\")as f:\n",
        "     dill.dump(SUMMARY,f)"
      ],
      "execution_count": 0,
      "outputs": []
    },
    {
      "cell_type": "code",
      "metadata": {
        "id": "pAxlYCNP8Hew",
        "colab_type": "code",
        "colab": {}
      },
      "source": [
        "#Get train, valid, and test itterator\n",
        "BATCH_SIZE = 64\n",
        "\n",
        "train_loader, valid_loader, test_loader = BucketIterator.splits(\n",
        "                                                            (train_data, valid_data, test_data),\n",
        "                                                            batch_size=BATCH_SIZE,\n",
        "                                                            sort_within_batch=True,\n",
        "                                                            sort_key = lambda x:len(x.text),\n",
        "                                                            device=device\n",
        "                                                                )"
      ],
      "execution_count": 0,
      "outputs": []
    },
    {
      "cell_type": "code",
      "metadata": {
        "id": "kKueNu-j8Mwh",
        "colab_type": "code",
        "colab": {}
      },
      "source": [
        "#Encoder class, encodes article to vector\n",
        "\n",
        "class Encoder(nn.Module):\n",
        "    \n",
        "    \n",
        "    def __init__(self, vocab, embeding_dim, encoder_hidden_dim, decoder_hidden_dim, dropout):\n",
        "        super().__init__()\n",
        "        \n",
        "        self.embedding = nn.Embedding(vocab, embeding_dim)\n",
        "        self.rnn = nn.GRU(embeding_dim, encoder_hidden_dim, bidirectional = True)\n",
        "        self.fc = nn.Linear(encoder_hidden_dim*2, decoder_hidden_dim)\n",
        "        \n",
        "        self.dropout = nn.Dropout(p=dropout)\n",
        "   \n",
        "\n",
        "    def forward(self, text, text_len):\n",
        "        embedded = self.dropout(self.embedding(text))\n",
        "        packed_embedded = nn.utils.rnn.pack_padded_sequence(embedded, text_len)\n",
        "        packed_outputs, hidden = self.rnn(packed_embedded) \n",
        "        outputs, _ = nn.utils.rnn.pad_packed_sequence(packed_outputs)\n",
        "        hidden = torch.tanh(self.fc(torch.cat((hidden[-2,:,:], hidden[-1,:,:]), dim = 1)))\n",
        "        \n",
        "        return outputs, hidden"
      ],
      "execution_count": 0,
      "outputs": []
    },
    {
      "cell_type": "code",
      "metadata": {
        "id": "srJtdQLF8QfO",
        "colab_type": "code",
        "colab": {}
      },
      "source": [
        "# Attention machanism to take encoder hidden states and current decoder state and generate context vector\n",
        "class Attention(nn.Module):\n",
        "    \n",
        "    \n",
        "    def __init__(self, enc_hid_dim, dec_hid_dim ):\n",
        "        super().__init__()\n",
        "        self.attn = nn.Linear((enc_hid_dim * 2) + dec_hid_dim, dec_hid_dim)\n",
        "        self.v = nn.Linear(dec_hid_dim, 1, bias = False)\n",
        "    \n",
        "\n",
        "    def forward(self, hidden, encoder_outputs, mask):      \n",
        "        batch_size = encoder_outputs.shape[1]\n",
        "        src_len = encoder_outputs.shape[0]\n",
        "        \n",
        "        hidden = hidden.unsqueeze(1).repeat(1, src_len, 1)        \n",
        "        encoder_outputs = encoder_outputs.permute(1, 0, 2)\n",
        "        \n",
        "        energy = torch.tanh(self.attn(torch.cat((hidden, encoder_outputs), dim = 2))) \n",
        "        \n",
        "        attention = self.v(energy).squeeze(2)\n",
        "        attention = attention.masked_fill(mask == 0, -1e10)\n",
        "        \n",
        "        return F.softmax(attention, dim = 1)"
      ],
      "execution_count": 0,
      "outputs": []
    },
    {
      "cell_type": "code",
      "metadata": {
        "id": "pxzTg6JZ8TbB",
        "colab_type": "code",
        "colab": {}
      },
      "source": [
        "class Decoder(nn.Module):\n",
        "    def __init__(self, output_dim, emb_dim, enc_hid_dim, dec_hid_dim, dropout, attention):\n",
        "        super().__init__()\n",
        "        \n",
        "        self.output_dim = output_dim\n",
        "        self.attention = attention\n",
        "        \n",
        "        self.embedding = nn.Embedding(output_dim, emb_dim)        \n",
        "        self.rnn = nn.GRU((enc_hid_dim * 2) + emb_dim, dec_hid_dim)\n",
        "        self.fc_out = nn.Linear((enc_hid_dim * 2) + dec_hid_dim + emb_dim, output_dim)        \n",
        "        \n",
        "        self.dropout = nn.Dropout(dropout)\n",
        "        \n",
        "    def forward(self, input_, hidden, encoder_outputs, mask):\n",
        "    \n",
        "        input_ = input_.unsqueeze(0)\n",
        "        embedded = self.dropout(self.embedding(input_))\n",
        "\n",
        "        atten = self.attention(hidden, encoder_outputs, mask)        \n",
        "        atten = atten.unsqueeze(1)\n",
        "        \n",
        "        encoder_outputs = encoder_outputs.permute(1, 0, 2)\n",
        "        weighted = torch.bmm(atten, encoder_outputs)\n",
        "        \n",
        "        weighted = weighted.permute(1, 0, 2)        \n",
        "        rnn_input_ = torch.cat((embedded, weighted), dim = 2)\n",
        "            \n",
        "        output, hidden = self.rnn(rnn_input_, hidden.unsqueeze(0))\n",
        "              \n",
        "        embedded = embedded.squeeze(0)\n",
        "        output = output.squeeze(0)\n",
        "        weighted = weighted.squeeze(0)\n",
        "        \n",
        "        prediction = self.fc_out(torch.cat((output, weighted, embedded), dim = 1))\n",
        "        \n",
        "        return prediction, hidden.squeeze(0), atten.squeeze(1)"
      ],
      "execution_count": 0,
      "outputs": []
    },
    {
      "cell_type": "code",
      "metadata": {
        "id": "jguHYLN48YM4",
        "colab_type": "code",
        "colab": {}
      },
      "source": [
        "class Seq2Seq(nn.Module):\n",
        "    def __init__(self, encoder, decoder, text_pad_idx, device):\n",
        "        super().__init__()\n",
        "        \n",
        "        self.encoder = encoder\n",
        "        self.decoder = decoder\n",
        "        self.text_pad_idx = text_pad_idx\n",
        "        self.device = device\n",
        "        \n",
        "    def create_mask(self, text):\n",
        "        mask = (text != self.text_pad_idx).permute(1, 0)\n",
        "        return mask\n",
        "        \n",
        "    def forward(self, text, text_len, headline, teacher_forcing_ratio = 0.5):\n",
        "        batch_size = text.shape[1]\n",
        "        headline_len = headline.shape[0]\n",
        "        headline_vocab_size = self.decoder.output_dim\n",
        "\n",
        "        outputs = torch.zeros(headline_len, batch_size, headline_vocab_size).to(self.device)\n",
        "      \n",
        "        encoder_outputs, hidden = self.encoder(text, text_len)\n",
        "       \n",
        "        input_ = headline[0,:]\n",
        "        \n",
        "        mask = self.create_mask(text)\n",
        "                \n",
        "        for t in range(1, headline_len):\n",
        "            \n",
        "            output, hidden, _ = self.decoder(input_, hidden, encoder_outputs, mask)           \n",
        "            outputs[t] = output\n",
        "            teacher_force = random.random() < teacher_forcing_ratio            \n",
        "            top1 = output.argmax(1)             \n",
        "            input_ = headline[t] if teacher_force else top1\n",
        "            \n",
        "        return outputs"
      ],
      "execution_count": 0,
      "outputs": []
    },
    {
      "cell_type": "code",
      "metadata": {
        "id": "L90WDPrK8mNM",
        "colab_type": "code",
        "colab": {}
      },
      "source": [
        "#load saved article and summary field \n",
        "\n",
        "with open(\"/content/gdrive/My Drive/Attention/model/ARTICLE.Field\",\"rb\")as f:\n",
        "     ARTICLE=dill.load(f)\n",
        "with open(\"/content/gdrive/My Drive/Attention/model/SUMMARY.Field\",\"rb\")as f:\n",
        "     SUMMARY=dill.load(f)"
      ],
      "execution_count": 0,
      "outputs": []
    },
    {
      "cell_type": "code",
      "metadata": {
        "id": "rhxefSYk82Eo",
        "colab_type": "code",
        "colab": {}
      },
      "source": [
        "# model parameters, dimension kept less due to memory issue.\n",
        "\n",
        "INPUT_DIM = len(ARTICLE.vocab)\n",
        "OUTPUT_DIM = len(SUMMARY.vocab)\n",
        "ENC_EMB_DIM = 256\n",
        "DEC_EMB_DIM = 256\n",
        "ENC_HID_DIM = 512\n",
        "DEC_HID_DIM = 512\n",
        "ENC_DROPOUT = 0.5\n",
        "DEC_DROPOUT = 0.5\n",
        "ARTICLE_PAD_IDX = ARTICLE.vocab.stoi[ARTICLE.pad_token]\n",
        "\n",
        "attn = Attention(ENC_HID_DIM, DEC_HID_DIM)\n",
        "enc = Encoder(INPUT_DIM, ENC_EMB_DIM, ENC_HID_DIM, DEC_HID_DIM, ENC_DROPOUT)\n",
        "dec = Decoder(OUTPUT_DIM, DEC_EMB_DIM, ENC_HID_DIM, DEC_HID_DIM, DEC_DROPOUT, attn)\n",
        "\n",
        "model = Seq2Seq(enc, dec, ARTICLE_PAD_IDX, device).to(device)"
      ],
      "execution_count": 0,
      "outputs": []
    },
    {
      "cell_type": "code",
      "metadata": {
        "id": "-mzZsf3z87Cp",
        "colab_type": "code",
        "outputId": "bac5157d-511b-454f-8691-49e0bd77cdc9",
        "colab": {
          "base_uri": "https://localhost:8080/",
          "height": 323
        }
      },
      "source": [
        "print(model)"
      ],
      "execution_count": 0,
      "outputs": [
        {
          "output_type": "stream",
          "text": [
            "Seq2Seq(\n",
            "  (encoder): Encoder(\n",
            "    (embedding): Embedding(50624, 256)\n",
            "    (rnn): GRU(256, 512, bidirectional=True)\n",
            "    (fc): Linear(in_features=1024, out_features=512, bias=True)\n",
            "    (dropout): Dropout(p=0.5, inplace=False)\n",
            "  )\n",
            "  (decoder): Decoder(\n",
            "    (attention): Attention(\n",
            "      (attn): Linear(in_features=1536, out_features=512, bias=True)\n",
            "      (v): Linear(in_features=512, out_features=1, bias=False)\n",
            "    )\n",
            "    (embedding): Embedding(21467, 256)\n",
            "    (rnn): GRU(1280, 512)\n",
            "    (fc_out): Linear(in_features=1792, out_features=21467, bias=True)\n",
            "    (dropout): Dropout(p=0.5, inplace=False)\n",
            "  )\n",
            ")\n"
          ],
          "name": "stdout"
        }
      ]
    },
    {
      "cell_type": "code",
      "metadata": {
        "id": "7oSP575e8-N-",
        "colab_type": "code",
        "colab": {}
      },
      "source": [
        "#setup optimizer for training model\n",
        "\n",
        "optimizer = optim.Adam(model.parameters())"
      ],
      "execution_count": 0,
      "outputs": []
    },
    {
      "cell_type": "code",
      "metadata": {
        "id": "SbbOiK-j9AsZ",
        "colab_type": "code",
        "colab": {}
      },
      "source": [
        "#setup loss function ignoring pad index\n",
        "\n",
        "SUMMARY_PAD_IDX = SUMMARY.vocab.stoi[SUMMARY.pad_token]\n",
        "\n",
        "criterion = nn.CrossEntropyLoss(ignore_index = SUMMARY_PAD_IDX)"
      ],
      "execution_count": 0,
      "outputs": []
    },
    {
      "cell_type": "code",
      "metadata": {
        "id": "ymDYzESN9DVs",
        "colab_type": "code",
        "colab": {}
      },
      "source": [
        "#function to train model\n",
        "def train(model, iterator, optimizer, criterion, clip):\n",
        "    \n",
        "    model.train()\n",
        "    \n",
        "    epoch_loss = 0\n",
        "    \n",
        "    for i, batch in enumerate(iterator):\n",
        "        \n",
        "        text, text_len = batch.text\n",
        "        headline = batch.headline\n",
        "        \n",
        "        optimizer.zero_grad()\n",
        "        \n",
        "        output = model(text, text_len, headline)\n",
        "        \n",
        "        #trg = [trg len, batch size]\n",
        "        #output = [trg len, batch size, output dim]\n",
        "        \n",
        "        output_dim = output.shape[-1]\n",
        "        \n",
        "        output = output[1:].view(-1, output_dim)\n",
        "        headline = headline[1:].view(-1)\n",
        "        \n",
        "        #trg = [(trg len - 1) * batch size]\n",
        "        #output = [(trg len - 1) * batch size, output dim]\n",
        "        \n",
        "        loss = criterion(output, headline)\n",
        "        \n",
        "        loss.backward()\n",
        "        \n",
        "        torch.nn.utils.clip_grad_norm_(model.parameters(), clip)\n",
        "        \n",
        "        optimizer.step()\n",
        "        \n",
        "        epoch_loss += loss.item()\n",
        "        \n",
        "    return epoch_loss / len(iterator)"
      ],
      "execution_count": 0,
      "outputs": []
    },
    {
      "cell_type": "code",
      "metadata": {
        "id": "xFW76sUt9GMU",
        "colab_type": "code",
        "colab": {}
      },
      "source": [
        "#functio to return val loss\n",
        "def evaluate(model, iterator, criterion):\n",
        "    \n",
        "    model.eval()\n",
        "    \n",
        "    epoch_loss = 0\n",
        "    \n",
        "    with torch.no_grad():\n",
        "    \n",
        "        for i, batch in enumerate(iterator):\n",
        "\n",
        "            text, text_len = batch.text\n",
        "            headline = batch.headline\n",
        "\n",
        "            output = model(text, text_len, headline, 0) \n",
        "            \n",
        "            #headline = [headline len, batch size]\n",
        "            #output = [headline len, batch size, output dim]\n",
        "\n",
        "            output_dim = output.shape[-1]\n",
        "            \n",
        "            output = output[1:].view(-1, output_dim)\n",
        "            headline = headline[1:].view(-1)\n",
        "\n",
        "            #headline = [(headline len - 1) * batch size]\n",
        "            #output = [(headline len - 1) * batch size, output dim]\n",
        "\n",
        "            loss = criterion(output, headline)\n",
        "\n",
        "            epoch_loss += loss.item()\n",
        "        \n",
        "    return epoch_loss / len(iterator)"
      ],
      "execution_count": 0,
      "outputs": []
    },
    {
      "cell_type": "code",
      "metadata": {
        "id": "ddvgM73Q9I8K",
        "colab_type": "code",
        "outputId": "54f492c3-9ad2-4273-d58f-1f41b387b42f",
        "colab": {
          "base_uri": "https://localhost:8080/",
          "height": 1000
        }
      },
      "source": [
        "# training model\n",
        "\n",
        "N_EPOCHS = 30\n",
        "N_EPOCHS = 30\n",
        "CLIP = 1\n",
        "\n",
        "best_valid_loss = float('inf')\n",
        "\n",
        "for epoch in range(N_EPOCHS):\n",
        "    \n",
        "    start_time = time.time()\n",
        "    \n",
        "    train_loss = train(model, train_loader, optimizer, criterion, CLIP)\n",
        "    valid_loss = evaluate(model, valid_loader, criterion)\n",
        "    \n",
        "    end_time = time.time()\n",
        "    \n",
        "    epoch_mins, epoch_secs = epoch_time(start_time, end_time)\n",
        "    \n",
        "    if valid_loss < best_valid_loss:\n",
        "        best_valid_loss = valid_loss\n",
        "        torch.save(model.state_dict(), 'checkpoint.pth')\n",
        "    \n",
        "    print(f'Epoch: {epoch+1:2} | Time: {epoch_mins}m {epoch_secs}s')\n",
        "    print(f'\\tTrain Loss: {train_loss:.3f} | Train PPL: {math.exp(train_loss):7.3f}')\n",
        "    print(f'\\t Val. Loss: {valid_loss:.3f} |  Val. PPL: {math.exp(valid_loss):7.3f}')"
      ],
      "execution_count": 0,
      "outputs": [
        {
          "output_type": "stream",
          "text": [
            "Epoch:  1 | Time: 16m 2s\n",
            "\tTrain Loss: 4.859 | Train PPL: 128.838\n",
            "\t Val. Loss: 4.760 |  Val. PPL: 116.788\n",
            "Epoch:  2 | Time: 16m 6s\n",
            "\tTrain Loss: 4.572 | Train PPL:  96.776\n",
            "\t Val. Loss: 4.606 |  Val. PPL: 100.041\n",
            "Epoch:  3 | Time: 16m 5s\n",
            "\tTrain Loss: 4.360 | Train PPL:  78.284\n",
            "\t Val. Loss: 4.476 |  Val. PPL:  87.922\n",
            "Epoch:  4 | Time: 16m 3s\n",
            "\tTrain Loss: 4.186 | Train PPL:  65.780\n",
            "\t Val. Loss: 4.436 |  Val. PPL:  84.460\n",
            "Epoch:  5 | Time: 16m 2s\n",
            "\tTrain Loss: 4.047 | Train PPL:  57.225\n",
            "\t Val. Loss: 4.386 |  Val. PPL:  80.279\n",
            "Epoch:  6 | Time: 15m 58s\n",
            "\tTrain Loss: 3.936 | Train PPL:  51.204\n",
            "\t Val. Loss: 4.363 |  Val. PPL:  78.464\n",
            "Epoch:  7 | Time: 15m 59s\n",
            "\tTrain Loss: 3.839 | Train PPL:  46.487\n",
            "\t Val. Loss: 4.382 |  Val. PPL:  80.027\n",
            "Epoch:  8 | Time: 15m 58s\n",
            "\tTrain Loss: 3.760 | Train PPL:  42.934\n",
            "\t Val. Loss: 4.323 |  Val. PPL:  75.377\n",
            "Epoch:  9 | Time: 15m 57s\n",
            "\tTrain Loss: 3.684 | Train PPL:  39.806\n",
            "\t Val. Loss: 4.320 |  Val. PPL:  75.225\n",
            "Epoch: 10 | Time: 15m 57s\n",
            "\tTrain Loss: 3.619 | Train PPL:  37.297\n",
            "\t Val. Loss: 4.276 |  Val. PPL:  71.944\n",
            "Epoch: 11 | Time: 15m 56s\n",
            "\tTrain Loss: 3.574 | Train PPL:  35.643\n",
            "\t Val. Loss: 4.260 |  Val. PPL:  70.811\n",
            "Epoch: 12 | Time: 15m 56s\n",
            "\tTrain Loss: 3.529 | Train PPL:  34.085\n",
            "\t Val. Loss: 4.267 |  Val. PPL:  71.308\n",
            "Epoch: 13 | Time: 15m 56s\n",
            "\tTrain Loss: 3.476 | Train PPL:  32.337\n",
            "\t Val. Loss: 4.243 |  Val. PPL:  69.599\n",
            "Epoch: 14 | Time: 15m 56s\n",
            "\tTrain Loss: 3.445 | Train PPL:  31.342\n",
            "\t Val. Loss: 4.228 |  Val. PPL:  68.598\n",
            "Epoch: 15 | Time: 15m 46s\n",
            "\tTrain Loss: 3.393 | Train PPL:  29.750\n",
            "\t Val. Loss: 4.218 |  Val. PPL:  67.904\n",
            "Epoch: 16 | Time: 15m 46s\n",
            "\tTrain Loss: 3.376 | Train PPL:  29.267\n",
            "\t Val. Loss: 4.208 |  Val. PPL:  67.224\n",
            "Epoch: 17 | Time: 15m 46s\n",
            "\tTrain Loss: 3.347 | Train PPL:  28.417\n",
            "\t Val. Loss: 4.214 |  Val. PPL:  67.602\n",
            "Epoch: 18 | Time: 15m 46s\n",
            "\tTrain Loss: 3.308 | Train PPL:  27.342\n",
            "\t Val. Loss: 4.244 |  Val. PPL:  69.673\n",
            "Epoch: 19 | Time: 15m 45s\n",
            "\tTrain Loss: 3.292 | Train PPL:  26.894\n",
            "\t Val. Loss: 4.154 |  Val. PPL:  63.694\n",
            "Epoch: 20 | Time: 15m 47s\n",
            "\tTrain Loss: 3.270 | Train PPL:  26.314\n",
            "\t Val. Loss: 4.170 |  Val. PPL:  64.738\n",
            "Epoch: 21 | Time: 15m 47s\n",
            "\tTrain Loss: 3.236 | Train PPL:  25.439\n",
            "\t Val. Loss: 4.191 |  Val. PPL:  66.083\n",
            "Epoch: 22 | Time: 15m 48s\n",
            "\tTrain Loss: 3.214 | Train PPL:  24.884\n",
            "\t Val. Loss: 4.162 |  Val. PPL:  64.173\n",
            "Epoch: 23 | Time: 15m 48s\n",
            "\tTrain Loss: 3.198 | Train PPL:  24.480\n",
            "\t Val. Loss: 4.178 |  Val. PPL:  65.235\n",
            "Epoch: 24 | Time: 15m 47s\n",
            "\tTrain Loss: 3.172 | Train PPL:  23.867\n",
            "\t Val. Loss: 4.158 |  Val. PPL:  63.966\n",
            "Epoch: 25 | Time: 15m 48s\n",
            "\tTrain Loss: 3.157 | Train PPL:  23.511\n",
            "\t Val. Loss: 4.142 |  Val. PPL:  62.908\n",
            "Epoch: 26 | Time: 15m 47s\n",
            "\tTrain Loss: 3.135 | Train PPL:  22.998\n",
            "\t Val. Loss: 4.133 |  Val. PPL:  62.360\n",
            "Epoch: 27 | Time: 15m 49s\n",
            "\tTrain Loss: 3.128 | Train PPL:  22.822\n",
            "\t Val. Loss: 4.113 |  Val. PPL:  61.110\n",
            "Epoch: 28 | Time: 15m 48s\n",
            "\tTrain Loss: 3.099 | Train PPL:  22.168\n",
            "\t Val. Loss: 4.109 |  Val. PPL:  60.875\n",
            "Epoch: 29 | Time: 15m 49s\n",
            "\tTrain Loss: 3.087 | Train PPL:  21.906\n",
            "\t Val. Loss: 4.133 |  Val. PPL:  62.341\n",
            "Epoch: 30 | Time: 15m 50s\n",
            "\tTrain Loss: 3.087 | Train PPL:  21.900\n",
            "\t Val. Loss: 4.120 |  Val. PPL:  61.569\n"
          ],
          "name": "stdout"
        }
      ]
    },
    {
      "cell_type": "code",
      "metadata": {
        "id": "5uV8UiutWr0K",
        "colab_type": "code",
        "colab": {}
      },
      "source": [
        ""
      ],
      "execution_count": 0,
      "outputs": []
    },
    {
      "cell_type": "code",
      "metadata": {
        "id": "JJ1EyQrgOOa0",
        "colab_type": "code",
        "outputId": "25c875ad-8a1a-4421-cbb0-1d19551e7ab7",
        "colab": {
          "base_uri": "https://localhost:8080/",
          "height": 34
        }
      },
      "source": [
        "#load best fitted model and calculate test loss\n",
        "model.load_state_dict(torch.load('checkpoint.pth'))\n",
        "\n",
        "test_loss = evaluate(model, test_loader, criterion)\n",
        "\n",
        "print(f'| Test Loss: {test_loss:.3f} | Test PPL: {math.exp(test_loss):7.3f} |')"
      ],
      "execution_count": 0,
      "outputs": [
        {
          "output_type": "stream",
          "text": [
            "| Test Loss: 4.105 | Test PPL:  60.643 |\n"
          ],
          "name": "stdout"
        }
      ]
    },
    {
      "cell_type": "code",
      "metadata": {
        "id": "wlbhDxyeSZ3E",
        "colab_type": "code",
        "colab": {}
      },
      "source": [
        "#function to generate summary from saved model\n",
        "def predict(sentence, src_field, trg_field, model, device, max_len = 50):\n",
        "\n",
        "    model.eval()\n",
        "        \n",
        "    if sentence is str:\n",
        "        nlp = spacy.load('en')\n",
        "        tokens = [token.text.lower() for token in nlp(sentence)]\n",
        "    else:\n",
        "        tokens = [token.lower() for token in sentence]\n",
        "\n",
        "    tokens = [src_field.init_token] + tokens + [src_field.eos_token]        \n",
        "    src_indexes = [src_field.vocab.stoi[token] for token in tokens]\n",
        "    \n",
        "    src_tensor = torch.LongTensor(src_indexes).unsqueeze(1).to(device)\n",
        "    src_len = torch.LongTensor([len(src_indexes)]).to(device)\n",
        "    \n",
        "    with torch.no_grad():\n",
        "        encoder_outputs, hidden = model.encoder(src_tensor, src_len)\n",
        "\n",
        "    mask = model.create_mask(src_tensor)        \n",
        "    trg_indexes = [trg_field.vocab.stoi[trg_field.init_token]]\n",
        "    attentions = torch.zeros(max_len, 1, len(src_indexes)).to(device)\n",
        "    \n",
        "    for i in range(max_len):\n",
        "\n",
        "        trg_tensor = torch.LongTensor([trg_indexes[-1]]).to(device)\n",
        "        \n",
        "        with torch.no_grad():\n",
        "            output, hidden, attention = model.decoder(trg_tensor, hidden, encoder_outputs, mask)\n",
        "\n",
        "        attentions[i] = attention            \n",
        "        pred_token = output.argmax(1).item()        \n",
        "        trg_indexes.append(pred_token)\n",
        "\n",
        "        if pred_token == trg_field.vocab.stoi[trg_field.eos_token]:\n",
        "            break\n",
        "    \n",
        "    trg_tokens = [trg_field.vocab.itos[i] for i in trg_indexes]\n",
        "    \n",
        "    return trg_tokens[1:], attentions[:len(trg_tokens)-1]"
      ],
      "execution_count": 0,
      "outputs": []
    },
    {
      "cell_type": "code",
      "metadata": {
        "id": "yDxH2s04PwrU",
        "colab_type": "code",
        "colab": {}
      },
      "source": [
        "# function to plot attention scores\n",
        "def plot_attention(sentence, translation, attention):\n",
        "    \n",
        "    fig = plt.figure(figsize=(32,64))\n",
        "    \n",
        "    attention = attention.squeeze(1).cpu().detach().numpy()\n",
        "    \n",
        "    cax = sns.heatmap(attention,cmap='gray', cbar=False, square=True,\\\n",
        "                     yticklabels=translation,xticklabels=sentence) \n",
        "    cax.set_yticklabels(cax.get_yticklabels(), rotation = 0, fontsize = 20)\n",
        "    cax.set_xticklabels(cax.get_xticklabels(), rotation = 90, fontsize = 20)\n"
      ],
      "execution_count": 0,
      "outputs": []
    },
    {
      "cell_type": "code",
      "metadata": {
        "id": "xuYOlfK1QKNf",
        "colab_type": "code",
        "colab": {}
      },
      "source": [
        "import matplotlib.pyplot as plt\n"
      ],
      "execution_count": 0,
      "outputs": []
    },
    {
      "cell_type": "code",
      "metadata": {
        "id": "w-ooru2xP5GS",
        "colab_type": "code",
        "outputId": "e3d629e6-030f-4d93-b296-3720fbb02e30",
        "colab": {
          "base_uri": "https://localhost:8080/",
          "height": 346
        }
      },
      "source": [
        "#testing\n",
        "example_idx = 17\n",
        "\n",
        "bold_start, bold_end = \"\\033[1m\", \"\\033[0;0m\"\n",
        "text = vars(test_data.examples[example_idx])['text']\n",
        "headline = vars(test_data.examples[example_idx])['headline']\n",
        "\n",
        "print(f'{bold_start}Text{bold_end} = {\" \".join(word for word in text)}\\n')\n",
        "print(f'{bold_start}Headline{bold_end} = {\" \".join(word for word in headline)}\\n')\n",
        "\n",
        "prediction, attention = predict(text, ARTICLE, SUMMARY, model, device)\n",
        "\n",
        "print(f'{bold_start}Predicted Headline{bold_end} = {\" \".join(word for word in prediction)}')\n",
        "print(\"\\n\\t\\t\\t\\t\\t\\t\\tAttention Plot\")\n",
        "plot_attention(text, prediction, attention)"
      ],
      "execution_count": 0,
      "outputs": [
        {
          "output_type": "stream",
          "text": [
            "\u001b[1mText\u001b[0;0m = saudi arabia became the last country in the world to allow women to drive after it lifted the ban on female motorists on sunday . \" now every woman has the right to drive a car anywhere in the kingdom , \" the country 's traffic authorities spokesman said . the crown prince mohammed bin salman had announced the lifting of the ban last year .\n",
            "\n",
            "\u001b[1mHeadline\u001b[0;0m = saudi arabia becomes last country to allow women to drive\n",
            "\n",
            "\u001b[1mPredicted Headline\u001b[0;0m = saudi arabia becomes country country to drive drive ban ban <eos>\n",
            "\n",
            "\t\t\t\t\t\t\tAttention Plot\n"
          ],
          "name": "stdout"
        },
        {
          "output_type": "display_data",
          "data": {
            "image/png": "[encoded data removed]",
            "text/plain": [
              "<Figure size 2304x4608 with 1 Axes>"
            ]
          },
          "metadata": {
            "tags": [],
            "needs_background": "light"
          }
        }
      ]
    },
    {
      "cell_type": "code",
      "metadata": {
        "id": "RcHh13mcP8Pc",
        "colab_type": "code",
        "outputId": "72eebbd5-3c69-41e4-aa30-2231e80c25a3",
        "colab": {
          "base_uri": "https://localhost:8080/",
          "height": 344
        }
      },
      "source": [
        "example_idx = 15\n",
        "\n",
        "bold_start, bold_end = \"\\033[1m\", \"\\033[0;0m\"\n",
        "text = vars(test_data.examples[example_idx])['text']\n",
        "headline = vars(test_data.examples[example_idx])['headline']\n",
        "\n",
        "print(f'{bold_start}Text{bold_end} = {\" \".join(word for word in text)}\\n')\n",
        "print(f'{bold_start}Headline{bold_end} = {\" \".join(word for word in headline)}\\n')\n",
        "\n",
        "prediction, attention = predict(text, ARTICLE, SUMMARY, model, device)\n",
        "\n",
        "print(f'{bold_start}Predicted Headline{bold_end} = {\" \".join(word for word in prediction)}')\n",
        "print(\"\\n\\t\\t\\t\\t\\t\\t\\tAttention Plot\")\n",
        "plot_attention(text, prediction, attention)"
      ],
      "execution_count": 0,
      "outputs": [
        {
          "output_type": "stream",
          "text": [
            "\u001b[1mText\u001b[0;0m = a chicago - hong kong united airlines flight was diverted to alaska after a passenger reportedly spread faeces all over the plane 's bathrooms and stuffed his shirt in a toilet . the man was met by fbi agents after the flight landed , as the incident took place midair and thereby falls within federal investigators ' jurisdiction . meanwhile , the aircraft was grounded overnight for maintenance .\n",
            "\n",
            "\u001b[1mHeadline\u001b[0;0m = flight diverted after man spreads poop in bathrooms\n",
            "\n",
            "\u001b[1mPredicted Headline\u001b[0;0m = flight diverted spreads spreads spreads spreads spreads bathrooms spreads bathrooms <eos>\n",
            "\n",
            "\t\t\t\t\t\t\tAttention Plot\n"
          ],
          "name": "stdout"
        },
        {
          "output_type": "display_data",
          "data": {
            "image/png": "[encoded data removed]",
            "text/plain": [
              "<Figure size 2304x4608 with 1 Axes>"
            ]
          },
          "metadata": {
            "tags": [],
            "needs_background": "light"
          }
        }
      ]
    }
  ]
}