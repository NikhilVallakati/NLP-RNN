{
  "nbformat": 4,
  "nbformat_minor": 0,
  "metadata": {
    "colab": {
      "name": "SGD.ipynb",
      "provenance": [],
      "collapsed_sections": []
    },
    "kernelspec": {
      "name": "python3",
      "display_name": "Python 3"
    },
    "accelerator": "GPU"
  },
  "cells": [
    {
      "cell_type": "code",
      "metadata": {
        "id": "8ZKaUHEYvpVS",
        "colab_type": "code",
        "outputId": "7f658eaf-7913-48c5-9bdf-39a8806956e4",
        "colab": {
          "base_uri": "https://localhost:8080/",
          "height": 71
        }
      },
      "source": [
        "#import required library\n",
        "import math\n",
        "import dill\n",
        "\n",
        "import spacy\n",
        "import seaborn as sns\n",
        "import matplotlib.ticker as ticker\n",
        "\n",
        "import torch\n",
        "from torch import nn\n",
        "from torch import optim\n",
        "import torch.nn.functional as F\n",
        "\n",
        "from torchtext.datasets import TranslationDataset\n",
        "from torchtext.data import Field, BucketIterator, TabularDataset\n",
        "\n",
        "import time\n",
        "import random\n",
        "\n",
        "device = torch.device('cuda' if torch.cuda.is_available() else 'cpu')"
      ],
      "execution_count": 0,
      "outputs": [
        {
          "output_type": "stream",
          "text": [
            "/usr/local/lib/python3.6/dist-packages/statsmodels/tools/_testing.py:19: FutureWarning: pandas.util.testing is deprecated. Use the functions in the public API at pandas.testing instead.\n",
            "  import pandas.util.testing as tm\n"
          ],
          "name": "stderr"
        }
      ]
    },
    {
      "cell_type": "code",
      "metadata": {
        "id": "BY_YS-FFvxei",
        "colab_type": "code",
        "colab": {}
      },
      "source": [
        "def epoch_time(start_time, end_time):\n",
        "    elapsed_time = end_time - start_time\n",
        "    elapsed_mins = int(elapsed_time / 60)\n",
        "    elapsed_secs = int(elapsed_time - (elapsed_mins * 60))\n",
        "    return elapsed_mins, elapsed_secs"
      ],
      "execution_count": 0,
      "outputs": []
    },
    {
      "cell_type": "code",
      "metadata": {
        "id": "N8HVe0-2wZsb",
        "colab_type": "code",
        "colab": {}
      },
      "source": [
        "### initlize Field for source article and target summary\n",
        "ARTICLE = Field(tokenize='spacy',\n",
        "                init_token='<sos>',\n",
        "                eos_token='<eos>',\n",
        "                lower=True,\n",
        "                include_lengths=True\n",
        "                )\n",
        "SUMMARY = Field(tokenize='spacy',\n",
        "                init_token='<sos>',\n",
        "                eos_token='<eos>',\n",
        "                lower=True,\n",
        "                )"
      ],
      "execution_count": 0,
      "outputs": []
    },
    {
      "cell_type": "code",
      "metadata": {
        "id": "NTIhlIc95Lz9",
        "colab_type": "code",
        "outputId": "2bb84ee8-bcbf-4892-87db-4e4194477b0f",
        "colab": {
          "base_uri": "https://localhost:8080/",
          "height": 122
        }
      },
      "source": [
        "from google.colab import drive\n",
        "drive.mount('/content/gdrive')"
      ],
      "execution_count": 0,
      "outputs": [
        {
          "output_type": "stream",
          "text": [
            "Go to this URL in a browser: https://accounts.google.com/o/oauth2/auth?client_id=947318989803-6bn6qk8qdgf4n4g3pfee6491hc0brc4i.apps.googleusercontent.com&redirect_uri=urn%3aietf%3awg%3aoauth%3a2.0%3aoob&response_type=code&scope=email%20https%3a%2f%2fwww.googleapis.com%2fauth%2fdocs.test%20https%3a%2f%2fwww.googleapis.com%2fauth%2fdrive%20https%3a%2f%2fwww.googleapis.com%2fauth%2fdrive.photos.readonly%20https%3a%2f%2fwww.googleapis.com%2fauth%2fpeopleapi.readonly\n",
            "\n",
            "Enter your authorization code:\n",
            "··········\n",
            "Mounted at /content/gdrive\n"
          ],
          "name": "stdout"
        }
      ]
    },
    {
      "cell_type": "code",
      "metadata": {
        "id": "OZND_CZg2KfL",
        "colab_type": "code",
        "colab": {}
      },
      "source": [
        "#load train, test, val data\n",
        "train_data, valid_data, test_data = TabularDataset.splits(\n",
        "                                                    path = \"/content/gdrive/My Drive/Attention/data\",\n",
        "                                                    train= 'train.csv',\n",
        "                                                    validation='val.csv',\n",
        "                                                    test='test.csv', \n",
        "                                                    format='csv',\n",
        "                                                    fields=[(\"text\",ARTICLE),('headline',SUMMARY)]\n",
        "                                                        )"
      ],
      "execution_count": 0,
      "outputs": []
    },
    {
      "cell_type": "code",
      "metadata": {
        "id": "iqWcGkxH6Tck",
        "colab_type": "code",
        "colab": {}
      },
      "source": [
        "#set up vocab for article and summary from train data.\n",
        "ARTICLE.build_vocab(train_data, min_freq=2)\n",
        "SUMMARY.build_vocab(train_data, min_freq=2)"
      ],
      "execution_count": 0,
      "outputs": []
    },
    {
      "cell_type": "code",
      "metadata": {
        "id": "M_LV5hBr7Hca",
        "colab_type": "code",
        "colab": {}
      },
      "source": [
        "#Save article and summary field \n",
        "with open(\"/content/gdrive/My Drive/Attention/model/ARTICLE.Field\",\"wb\")as f:\n",
        "     dill.dump(ARTICLE,f)\n",
        "with open(\"/content/gdrive/My Drive/Attention/model/SUMMARY.Field\",\"wb\")as f:\n",
        "     dill.dump(SUMMARY,f)"
      ],
      "execution_count": 0,
      "outputs": []
    },
    {
      "cell_type": "code",
      "metadata": {
        "id": "pAxlYCNP8Hew",
        "colab_type": "code",
        "colab": {}
      },
      "source": [
        "#Get train, valid, and test itterator\n",
        "BATCH_SIZE = 64\n",
        "\n",
        "train_loader, valid_loader, test_loader = BucketIterator.splits(\n",
        "                                                            (train_data, valid_data, test_data),\n",
        "                                                            batch_size=BATCH_SIZE,\n",
        "                                                            sort_within_batch=True,\n",
        "                                                            sort_key = lambda x:len(x.text),\n",
        "                                                            device=device\n",
        "                                                                )"
      ],
      "execution_count": 0,
      "outputs": []
    },
    {
      "cell_type": "code",
      "metadata": {
        "id": "kKueNu-j8Mwh",
        "colab_type": "code",
        "colab": {}
      },
      "source": [
        "#Encoder class, encodes article to vector\n",
        "\n",
        "class Encoder(nn.Module):\n",
        "    \n",
        "    \n",
        "    def __init__(self, vocab, embeding_dim, encoder_hidden_dim, decoder_hidden_dim, dropout):\n",
        "        super().__init__()\n",
        "        \n",
        "        self.embedding = nn.Embedding(vocab, embeding_dim)\n",
        "        self.rnn = nn.GRU(embeding_dim, encoder_hidden_dim, bidirectional = True)\n",
        "        self.fc = nn.Linear(encoder_hidden_dim*2, decoder_hidden_dim)\n",
        "        \n",
        "        self.dropout = nn.Dropout(p=dropout)\n",
        "   \n",
        "\n",
        "    def forward(self, text, text_len):\n",
        "        embedded = self.dropout(self.embedding(text))\n",
        "        packed_embedded = nn.utils.rnn.pack_padded_sequence(embedded, text_len)\n",
        "        packed_outputs, hidden = self.rnn(packed_embedded) \n",
        "        outputs, _ = nn.utils.rnn.pad_packed_sequence(packed_outputs)\n",
        "        hidden = torch.tanh(self.fc(torch.cat((hidden[-2,:,:], hidden[-1,:,:]), dim = 1)))\n",
        "        \n",
        "        return outputs, hidden"
      ],
      "execution_count": 0,
      "outputs": []
    },
    {
      "cell_type": "code",
      "metadata": {
        "id": "srJtdQLF8QfO",
        "colab_type": "code",
        "colab": {}
      },
      "source": [
        "# Attention machanism to take encoder hidden states and current decoder state and generate context vector\n",
        "class Attention(nn.Module):\n",
        "    \n",
        "    \n",
        "    def __init__(self, enc_hid_dim, dec_hid_dim ):\n",
        "        super().__init__()\n",
        "        self.attn = nn.Linear((enc_hid_dim * 2) + dec_hid_dim, dec_hid_dim)\n",
        "        self.v = nn.Linear(dec_hid_dim, 1, bias = False)\n",
        "    \n",
        "\n",
        "    def forward(self, hidden, encoder_outputs, mask):      \n",
        "        batch_size = encoder_outputs.shape[1]\n",
        "        src_len = encoder_outputs.shape[0]\n",
        "        \n",
        "        hidden = hidden.unsqueeze(1).repeat(1, src_len, 1)        \n",
        "        encoder_outputs = encoder_outputs.permute(1, 0, 2)\n",
        "        \n",
        "        energy = torch.tanh(self.attn(torch.cat((hidden, encoder_outputs), dim = 2))) \n",
        "        \n",
        "        attention = self.v(energy).squeeze(2)\n",
        "        attention = attention.masked_fill(mask == 0, -1e10)\n",
        "        \n",
        "        return F.softmax(attention, dim = 1)"
      ],
      "execution_count": 0,
      "outputs": []
    },
    {
      "cell_type": "code",
      "metadata": {
        "id": "pxzTg6JZ8TbB",
        "colab_type": "code",
        "colab": {}
      },
      "source": [
        "class Decoder(nn.Module):\n",
        "    def __init__(self, output_dim, emb_dim, enc_hid_dim, dec_hid_dim, dropout, attention):\n",
        "        super().__init__()\n",
        "        \n",
        "        self.output_dim = output_dim\n",
        "        self.attention = attention\n",
        "        \n",
        "        self.embedding = nn.Embedding(output_dim, emb_dim)        \n",
        "        self.rnn = nn.GRU((enc_hid_dim * 2) + emb_dim, dec_hid_dim)\n",
        "        self.fc_out = nn.Linear((enc_hid_dim * 2) + dec_hid_dim + emb_dim, output_dim)        \n",
        "        \n",
        "        self.dropout = nn.Dropout(dropout)\n",
        "        \n",
        "    def forward(self, input_, hidden, encoder_outputs, mask):\n",
        "    \n",
        "        input_ = input_.unsqueeze(0)\n",
        "        embedded = self.dropout(self.embedding(input_))\n",
        "\n",
        "        atten = self.attention(hidden, encoder_outputs, mask)        \n",
        "        atten = atten.unsqueeze(1)\n",
        "        \n",
        "        encoder_outputs = encoder_outputs.permute(1, 0, 2)\n",
        "        weighted = torch.bmm(atten, encoder_outputs)\n",
        "        \n",
        "        weighted = weighted.permute(1, 0, 2)        \n",
        "        rnn_input_ = torch.cat((embedded, weighted), dim = 2)\n",
        "            \n",
        "        output, hidden = self.rnn(rnn_input_, hidden.unsqueeze(0))\n",
        "              \n",
        "        embedded = embedded.squeeze(0)\n",
        "        output = output.squeeze(0)\n",
        "        weighted = weighted.squeeze(0)\n",
        "        \n",
        "        prediction = self.fc_out(torch.cat((output, weighted, embedded), dim = 1))\n",
        "        \n",
        "        return prediction, hidden.squeeze(0), atten.squeeze(1)"
      ],
      "execution_count": 0,
      "outputs": []
    },
    {
      "cell_type": "code",
      "metadata": {
        "id": "jguHYLN48YM4",
        "colab_type": "code",
        "colab": {}
      },
      "source": [
        "class Seq2Seq(nn.Module):\n",
        "    def __init__(self, encoder, decoder, text_pad_idx, device):\n",
        "        super().__init__()\n",
        "        \n",
        "        self.encoder = encoder\n",
        "        self.decoder = decoder\n",
        "        self.text_pad_idx = text_pad_idx\n",
        "        self.device = device\n",
        "        \n",
        "    def create_mask(self, text):\n",
        "        mask = (text != self.text_pad_idx).permute(1, 0)\n",
        "        return mask\n",
        "        \n",
        "    def forward(self, text, text_len, headline, teacher_forcing_ratio = 0.5):\n",
        "        batch_size = text.shape[1]\n",
        "        headline_len = headline.shape[0]\n",
        "        headline_vocab_size = self.decoder.output_dim\n",
        "\n",
        "        outputs = torch.zeros(headline_len, batch_size, headline_vocab_size).to(self.device)\n",
        "      \n",
        "        encoder_outputs, hidden = self.encoder(text, text_len)\n",
        "       \n",
        "        input_ = headline[0,:]\n",
        "        \n",
        "        mask = self.create_mask(text)\n",
        "                \n",
        "        for t in range(1, headline_len):\n",
        "            \n",
        "            output, hidden, _ = self.decoder(input_, hidden, encoder_outputs, mask)           \n",
        "            outputs[t] = output\n",
        "            teacher_force = random.random() < teacher_forcing_ratio            \n",
        "            top1 = output.argmax(1)             \n",
        "            input_ = headline[t] if teacher_force else top1\n",
        "            \n",
        "        return outputs"
      ],
      "execution_count": 0,
      "outputs": []
    },
    {
      "cell_type": "code",
      "metadata": {
        "id": "L90WDPrK8mNM",
        "colab_type": "code",
        "colab": {}
      },
      "source": [
        "#load saved article and summary field \n",
        "\n",
        "with open(\"/content/gdrive/My Drive/Attention/model/ARTICLE.Field\",\"rb\")as f:\n",
        "     ARTICLE=dill.load(f)\n",
        "with open(\"/content/gdrive/My Drive/Attention/model/SUMMARY.Field\",\"rb\")as f:\n",
        "     SUMMARY=dill.load(f)"
      ],
      "execution_count": 0,
      "outputs": []
    },
    {
      "cell_type": "code",
      "metadata": {
        "id": "rhxefSYk82Eo",
        "colab_type": "code",
        "colab": {}
      },
      "source": [
        "# model parameters\n",
        "\n",
        "INPUT_DIM = len(ARTICLE.vocab)\n",
        "OUTPUT_DIM = len(SUMMARY.vocab)\n",
        "ENC_EMB_DIM = 256\n",
        "DEC_EMB_DIM = 256\n",
        "ENC_HID_DIM = 512\n",
        "DEC_HID_DIM = 512\n",
        "ENC_DROPOUT = 0.5\n",
        "DEC_DROPOUT = 0.5\n",
        "ARTICLE_PAD_IDX = ARTICLE.vocab.stoi[ARTICLE.pad_token]\n",
        "\n",
        "attn = Attention(ENC_HID_DIM, DEC_HID_DIM)\n",
        "enc = Encoder(INPUT_DIM, ENC_EMB_DIM, ENC_HID_DIM, DEC_HID_DIM, ENC_DROPOUT)\n",
        "dec = Decoder(OUTPUT_DIM, DEC_EMB_DIM, ENC_HID_DIM, DEC_HID_DIM, DEC_DROPOUT, attn)\n",
        "\n",
        "model = Seq2Seq(enc, dec, ARTICLE_PAD_IDX, device).to(device)"
      ],
      "execution_count": 0,
      "outputs": []
    },
    {
      "cell_type": "code",
      "metadata": {
        "id": "-mzZsf3z87Cp",
        "colab_type": "code",
        "outputId": "98c3fb13-bdb3-4982-da68-000fcd2a41cb",
        "colab": {
          "base_uri": "https://localhost:8080/",
          "height": 323
        }
      },
      "source": [
        "print(model)"
      ],
      "execution_count": 0,
      "outputs": [
        {
          "output_type": "stream",
          "text": [
            "Seq2Seq(\n",
            "  (encoder): Encoder(\n",
            "    (embedding): Embedding(50624, 256)\n",
            "    (rnn): GRU(256, 512, bidirectional=True)\n",
            "    (fc): Linear(in_features=1024, out_features=512, bias=True)\n",
            "    (dropout): Dropout(p=0.5, inplace=False)\n",
            "  )\n",
            "  (decoder): Decoder(\n",
            "    (attention): Attention(\n",
            "      (attn): Linear(in_features=1536, out_features=512, bias=True)\n",
            "      (v): Linear(in_features=512, out_features=1, bias=False)\n",
            "    )\n",
            "    (embedding): Embedding(21467, 256)\n",
            "    (rnn): GRU(1280, 512)\n",
            "    (fc_out): Linear(in_features=1792, out_features=21467, bias=True)\n",
            "    (dropout): Dropout(p=0.5, inplace=False)\n",
            "  )\n",
            ")\n"
          ],
          "name": "stdout"
        }
      ]
    },
    {
      "cell_type": "code",
      "metadata": {
        "id": "7oSP575e8-N-",
        "colab_type": "code",
        "colab": {}
      },
      "source": [
        "#setup optimizer for training model\n",
        "\n",
        "optimizer = optim.SGD(model.parameters(), lr=0.01, momentum=0.9)"
      ],
      "execution_count": 0,
      "outputs": []
    },
    {
      "cell_type": "code",
      "metadata": {
        "id": "SbbOiK-j9AsZ",
        "colab_type": "code",
        "colab": {}
      },
      "source": [
        "#setup loss function ignoring pad index\n",
        "\n",
        "SUMMARY_PAD_IDX = SUMMARY.vocab.stoi[SUMMARY.pad_token]\n",
        "\n",
        "criterion = nn.CrossEntropyLoss(ignore_index = SUMMARY_PAD_IDX)"
      ],
      "execution_count": 0,
      "outputs": []
    },
    {
      "cell_type": "code",
      "metadata": {
        "id": "ymDYzESN9DVs",
        "colab_type": "code",
        "colab": {}
      },
      "source": [
        "#function to train model\n",
        "def train(model, iterator, optimizer, criterion, clip):\n",
        "    \n",
        "    model.train()\n",
        "    \n",
        "    epoch_loss = 0\n",
        "    \n",
        "    for i, batch in enumerate(iterator):\n",
        "        \n",
        "        text, text_len = batch.text\n",
        "        headline = batch.headline\n",
        "        \n",
        "        optimizer.zero_grad()\n",
        "        \n",
        "        output = model(text, text_len, headline)\n",
        "        \n",
        "        #trg = [trg len, batch size]\n",
        "        #output = [trg len, batch size, output dim]\n",
        "        \n",
        "        output_dim = output.shape[-1]\n",
        "        \n",
        "        output = output[1:].view(-1, output_dim)\n",
        "        headline = headline[1:].view(-1)\n",
        "        \n",
        "        #trg = [(trg len - 1) * batch size]\n",
        "        #output = [(trg len - 1) * batch size, output dim]\n",
        "        \n",
        "        loss = criterion(output, headline)\n",
        "        \n",
        "        loss.backward()\n",
        "        \n",
        "        torch.nn.utils.clip_grad_norm_(model.parameters(), clip)\n",
        "        \n",
        "        optimizer.step()\n",
        "        \n",
        "        epoch_loss += loss.item()\n",
        "        \n",
        "    return epoch_loss / len(iterator)"
      ],
      "execution_count": 0,
      "outputs": []
    },
    {
      "cell_type": "code",
      "metadata": {
        "id": "xFW76sUt9GMU",
        "colab_type": "code",
        "colab": {}
      },
      "source": [
        "#function to return val loss\n",
        "def evaluate(model, iterator, criterion):\n",
        "    \n",
        "    model.eval()\n",
        "    \n",
        "    epoch_loss = 0\n",
        "    \n",
        "    with torch.no_grad():\n",
        "    \n",
        "        for i, batch in enumerate(iterator):\n",
        "\n",
        "            text, text_len = batch.text\n",
        "            headline = batch.headline\n",
        "\n",
        "            output = model(text, text_len, headline, 0) #turn off teacher forcing\n",
        "            \n",
        "            #headline = [headline len, batch size]\n",
        "            #output = [headline len, batch size, output dim]\n",
        "\n",
        "            output_dim = output.shape[-1]\n",
        "            \n",
        "            output = output[1:].view(-1, output_dim)\n",
        "            headline = headline[1:].view(-1)\n",
        "\n",
        "            #headline = [(headline len - 1) * batch size]\n",
        "            #output = [(headline len - 1) * batch size, output dim]\n",
        "\n",
        "            loss = criterion(output, headline)\n",
        "\n",
        "            epoch_loss += loss.item()\n",
        "        \n",
        "    return epoch_loss / len(iterator)"
      ],
      "execution_count": 0,
      "outputs": []
    },
    {
      "cell_type": "code",
      "metadata": {
        "id": "ddvgM73Q9I8K",
        "colab_type": "code",
        "outputId": "d1d86995-3bd4-4f95-95d8-6bb48561fe15",
        "colab": {
          "base_uri": "https://localhost:8080/",
          "height": 1000
        }
      },
      "source": [
        "# training model\n",
        "\n",
        "N_EPOCHS = 30\n",
        "N_EPOCHS = 30\n",
        "CLIP = 1\n",
        "\n",
        "best_valid_loss = float('inf')\n",
        "\n",
        "for epoch in range(N_EPOCHS):\n",
        "    \n",
        "    start_time = time.time()\n",
        "    \n",
        "    train_loss = train(model, train_loader, optimizer, criterion, CLIP)\n",
        "    valid_loss = evaluate(model, valid_loader, criterion)\n",
        "    \n",
        "    end_time = time.time()\n",
        "    \n",
        "    epoch_mins, epoch_secs = epoch_time(start_time, end_time)\n",
        "    \n",
        "    if valid_loss < best_valid_loss:\n",
        "        best_valid_loss = valid_loss\n",
        "        torch.save(model.state_dict(), 'checkpoint.pth')\n",
        "    \n",
        "    print(f'Epoch: {epoch+1:2} | Time: {epoch_mins}m {epoch_secs}s')\n",
        "    print(f'\\tTrain Loss: {train_loss:.3f} | Train PPL: {math.exp(train_loss):7.3f}')\n",
        "    print(f'\\t Val. Loss: {valid_loss:.3f} |  Val. PPL: {math.exp(valid_loss):7.3f}')"
      ],
      "execution_count": 0,
      "outputs": [
        {
          "output_type": "stream",
          "text": [
            "Epoch:  1 | Time: 15m 29s\n",
            "\tTrain Loss: 7.454 | Train PPL: 1725.933\n",
            "\t Val. Loss: 7.062 |  Val. PPL: 1167.173\n",
            "Epoch:  2 | Time: 15m 26s\n",
            "\tTrain Loss: 6.985 | Train PPL: 1079.823\n",
            "\t Val. Loss: 6.994 |  Val. PPL: 1090.180\n",
            "Epoch:  3 | Time: 15m 28s\n",
            "\tTrain Loss: 6.903 | Train PPL: 995.337\n",
            "\t Val. Loss: 6.973 |  Val. PPL: 1066.928\n",
            "Epoch:  4 | Time: 15m 27s\n",
            "\tTrain Loss: 6.846 | Train PPL: 940.514\n",
            "\t Val. Loss: 6.946 |  Val. PPL: 1038.931\n",
            "Epoch:  5 | Time: 15m 28s\n",
            "\tTrain Loss: 6.802 | Train PPL: 899.948\n",
            "\t Val. Loss: 6.897 |  Val. PPL: 989.659\n",
            "Epoch:  6 | Time: 15m 30s\n",
            "\tTrain Loss: 6.756 | Train PPL: 859.071\n",
            "\t Val. Loss: 6.864 |  Val. PPL: 956.768\n",
            "Epoch:  7 | Time: 15m 29s\n",
            "\tTrain Loss: 6.714 | Train PPL: 824.231\n",
            "\t Val. Loss: 6.838 |  Val. PPL: 932.176\n",
            "Epoch:  8 | Time: 15m 25s\n",
            "\tTrain Loss: 6.668 | Train PPL: 787.177\n",
            "\t Val. Loss: 6.799 |  Val. PPL: 896.577\n",
            "Epoch:  9 | Time: 15m 20s\n",
            "\tTrain Loss: 6.622 | Train PPL: 751.155\n",
            "\t Val. Loss: 6.777 |  Val. PPL: 877.478\n",
            "Epoch: 10 | Time: 15m 21s\n",
            "\tTrain Loss: 6.570 | Train PPL: 713.205\n",
            "\t Val. Loss: 6.710 |  Val. PPL: 820.811\n",
            "Epoch: 11 | Time: 15m 20s\n",
            "\tTrain Loss: 6.509 | Train PPL: 671.393\n",
            "\t Val. Loss: 6.660 |  Val. PPL: 780.504\n",
            "Epoch: 12 | Time: 15m 26s\n",
            "\tTrain Loss: 6.443 | Train PPL: 627.983\n",
            "\t Val. Loss: 6.591 |  Val. PPL: 728.748\n",
            "Epoch: 13 | Time: 15m 25s\n",
            "\tTrain Loss: 6.376 | Train PPL: 587.396\n",
            "\t Val. Loss: 6.546 |  Val. PPL: 696.455\n",
            "Epoch: 14 | Time: 15m 18s\n",
            "\tTrain Loss: 6.312 | Train PPL: 551.043\n",
            "\t Val. Loss: 6.523 |  Val. PPL: 680.438\n",
            "Epoch: 15 | Time: 15m 17s\n",
            "\tTrain Loss: 6.251 | Train PPL: 518.428\n",
            "\t Val. Loss: 6.432 |  Val. PPL: 621.294\n",
            "Epoch: 16 | Time: 15m 19s\n",
            "\tTrain Loss: 6.189 | Train PPL: 487.199\n",
            "\t Val. Loss: 6.397 |  Val. PPL: 600.100\n",
            "Epoch: 17 | Time: 15m 19s\n",
            "\tTrain Loss: 6.137 | Train PPL: 462.676\n",
            "\t Val. Loss: 6.346 |  Val. PPL: 570.296\n",
            "Epoch: 18 | Time: 15m 20s\n",
            "\tTrain Loss: 6.077 | Train PPL: 435.904\n",
            "\t Val. Loss: 6.291 |  Val. PPL: 539.603\n",
            "Epoch: 19 | Time: 15m 20s\n",
            "\tTrain Loss: 6.025 | Train PPL: 413.534\n",
            "\t Val. Loss: 6.245 |  Val. PPL: 515.463\n",
            "Epoch: 20 | Time: 15m 21s\n",
            "\tTrain Loss: 5.978 | Train PPL: 394.773\n",
            "\t Val. Loss: 6.213 |  Val. PPL: 499.024\n",
            "Epoch: 21 | Time: 15m 20s\n",
            "\tTrain Loss: 5.924 | Train PPL: 373.942\n",
            "\t Val. Loss: 6.190 |  Val. PPL: 488.074\n",
            "Epoch: 22 | Time: 15m 20s\n",
            "\tTrain Loss: 5.875 | Train PPL: 356.194\n",
            "\t Val. Loss: 6.179 |  Val. PPL: 482.335\n",
            "Epoch: 23 | Time: 15m 20s\n",
            "\tTrain Loss: 5.833 | Train PPL: 341.231\n",
            "\t Val. Loss: 6.127 |  Val. PPL: 457.848\n",
            "Epoch: 24 | Time: 15m 19s\n",
            "\tTrain Loss: 5.792 | Train PPL: 327.623\n",
            "\t Val. Loss: 6.081 |  Val. PPL: 437.639\n",
            "Epoch: 25 | Time: 15m 20s\n",
            "\tTrain Loss: 5.756 | Train PPL: 316.019\n",
            "\t Val. Loss: 6.066 |  Val. PPL: 431.036\n",
            "Epoch: 26 | Time: 15m 17s\n",
            "\tTrain Loss: 5.714 | Train PPL: 302.995\n",
            "\t Val. Loss: 6.025 |  Val. PPL: 413.653\n",
            "Epoch: 27 | Time: 15m 20s\n",
            "\tTrain Loss: 5.671 | Train PPL: 290.222\n",
            "\t Val. Loss: 5.986 |  Val. PPL: 397.648\n",
            "Epoch: 28 | Time: 15m 20s\n",
            "\tTrain Loss: 5.641 | Train PPL: 281.660\n",
            "\t Val. Loss: 5.953 |  Val. PPL: 384.925\n",
            "Epoch: 29 | Time: 15m 28s\n",
            "\tTrain Loss: 5.604 | Train PPL: 271.431\n",
            "\t Val. Loss: 5.924 |  Val. PPL: 374.067\n",
            "Epoch: 30 | Time: 15m 22s\n",
            "\tTrain Loss: 5.574 | Train PPL: 263.538\n",
            "\t Val. Loss: 5.882 |  Val. PPL: 358.366\n"
          ],
          "name": "stdout"
        }
      ]
    },
    {
      "cell_type": "code",
      "metadata": {
        "id": "5uV8UiutWr0K",
        "colab_type": "code",
        "colab": {}
      },
      "source": [
        ""
      ],
      "execution_count": 0,
      "outputs": []
    },
    {
      "cell_type": "code",
      "metadata": {
        "id": "JJ1EyQrgOOa0",
        "colab_type": "code",
        "outputId": "690c8268-d60e-49ca-a495-271dfc45a014",
        "colab": {
          "base_uri": "https://localhost:8080/",
          "height": 34
        }
      },
      "source": [
        "#load best fitted model and calculate test loss\n",
        "model.load_state_dict(torch.load('checkpoint.pth'))\n",
        "\n",
        "test_loss = evaluate(model, test_loader, criterion)\n",
        "\n",
        "print(f'| Test Loss: {test_loss:.3f} | Test PPL: {math.exp(test_loss):7.3f} |')"
      ],
      "execution_count": 0,
      "outputs": [
        {
          "output_type": "stream",
          "text": [
            "| Test Loss: 5.890 | Test PPL: 361.461 |\n"
          ],
          "name": "stdout"
        }
      ]
    },
    {
      "cell_type": "code",
      "metadata": {
        "id": "wlbhDxyeSZ3E",
        "colab_type": "code",
        "colab": {}
      },
      "source": [
        "#function to generate summary from saved model\n",
        "def predict(sentence, src_field, trg_field, model, device, max_len = 50):\n",
        "\n",
        "    model.eval()\n",
        "        \n",
        "    if sentence is str:\n",
        "        nlp = spacy.load('en')\n",
        "        tokens = [token.text.lower() for token in nlp(sentence)]\n",
        "    else:\n",
        "        tokens = [token.lower() for token in sentence]\n",
        "\n",
        "    tokens = [src_field.init_token] + tokens + [src_field.eos_token]        \n",
        "    src_indexes = [src_field.vocab.stoi[token] for token in tokens]\n",
        "    \n",
        "    src_tensor = torch.LongTensor(src_indexes).unsqueeze(1).to(device)\n",
        "    src_len = torch.LongTensor([len(src_indexes)]).to(device)\n",
        "    \n",
        "    with torch.no_grad():\n",
        "        encoder_outputs, hidden = model.encoder(src_tensor, src_len)\n",
        "\n",
        "    mask = model.create_mask(src_tensor)        \n",
        "    trg_indexes = [trg_field.vocab.stoi[trg_field.init_token]]\n",
        "    attentions = torch.zeros(max_len, 1, len(src_indexes)).to(device)\n",
        "    \n",
        "    for i in range(max_len):\n",
        "\n",
        "        trg_tensor = torch.LongTensor([trg_indexes[-1]]).to(device)\n",
        "        \n",
        "        with torch.no_grad():\n",
        "            output, hidden, attention = model.decoder(trg_tensor, hidden, encoder_outputs, mask)\n",
        "\n",
        "        attentions[i] = attention            \n",
        "        pred_token = output.argmax(1).item()        \n",
        "        trg_indexes.append(pred_token)\n",
        "\n",
        "        if pred_token == trg_field.vocab.stoi[trg_field.eos_token]:\n",
        "            break\n",
        "    \n",
        "    trg_tokens = [trg_field.vocab.itos[i] for i in trg_indexes]\n",
        "    \n",
        "    return trg_tokens[1:], attentions[:len(trg_tokens)-1]"
      ],
      "execution_count": 0,
      "outputs": []
    },
    {
      "cell_type": "code",
      "metadata": {
        "id": "yDxH2s04PwrU",
        "colab_type": "code",
        "colab": {}
      },
      "source": [
        "# function to plot attention scores\n",
        "def plot_attention(sentence, translation, attention):\n",
        "    \n",
        "    fig = plt.figure(figsize=(32,64))\n",
        "    \n",
        "    attention = attention.squeeze(1).cpu().detach().numpy()\n",
        "    \n",
        "    cax = sns.heatmap(attention,cmap='gray', cbar=False, square=True,\\\n",
        "                     yticklabels=translation,xticklabels=sentence) \n",
        "    cax.set_yticklabels(cax.get_yticklabels(), rotation = 0, fontsize = 20)\n",
        "    cax.set_xticklabels(cax.get_xticklabels(), rotation = 90, fontsize = 20)\n"
      ],
      "execution_count": 0,
      "outputs": []
    },
    {
      "cell_type": "code",
      "metadata": {
        "id": "xuYOlfK1QKNf",
        "colab_type": "code",
        "colab": {}
      },
      "source": [
        "import matplotlib.pyplot as plt\n"
      ],
      "execution_count": 0,
      "outputs": []
    },
    {
      "cell_type": "code",
      "metadata": {
        "id": "w-ooru2xP5GS",
        "colab_type": "code",
        "outputId": "a9395630-bcec-4a0a-a34d-858a4c3e853f",
        "colab": {
          "base_uri": "https://localhost:8080/",
          "height": 325
        }
      },
      "source": [
        "#testing\n",
        "example_idx = 17\n",
        "\n",
        "bold_start, bold_end = \"\\033[1m\", \"\\033[0;0m\"\n",
        "text = vars(test_data.examples[example_idx])['text']\n",
        "headline = vars(test_data.examples[example_idx])['headline']\n",
        "\n",
        "print(f'{bold_start}Text{bold_end} = {\" \".join(word for word in text)}\\n')\n",
        "print(f'{bold_start}Headline{bold_end} = {\" \".join(word for word in headline)}\\n')\n",
        "\n",
        "prediction, attention = predict(text, ARTICLE, SUMMARY, model, device)\n",
        "\n",
        "print(f'{bold_start}Predicted Headline{bold_end} = {\" \".join(word for word in prediction)}')\n",
        "print(\"\\n\\t\\t\\t\\t\\t\\t\\tAttention Plot\")\n",
        "plot_attention(text, prediction, attention)"
      ],
      "execution_count": 0,
      "outputs": [
        {
          "output_type": "stream",
          "text": [
            "\u001b[1mText\u001b[0;0m = saudi arabia became the last country in the world to allow women to drive after it lifted the ban on female motorists on sunday . \" now every woman has the right to drive a car anywhere in the kingdom , \" the country 's traffic authorities spokesman said . the crown prince mohammed bin salman had announced the lifting of the ban last year .\n",
            "\n",
            "\u001b[1mHeadline\u001b[0;0m = saudi arabia becomes last country to allow women to drive\n",
            "\n",
            "\u001b[1mPredicted Headline\u001b[0;0m = saudi arabia to to to women to women <eos>\n",
            "\n",
            "\t\t\t\t\t\t\tAttention Plot\n"
          ],
          "name": "stdout"
        },
        {
          "output_type": "display_data",
          "data": {
            "image/png": "[encoded data removed]",
            "text/plain": [
              "<Figure size 2304x4608 with 1 Axes>"
            ]
          },
          "metadata": {
            "tags": [],
            "needs_background": "light"
          }
        }
      ]
    },
    {
      "cell_type": "code",
      "metadata": {
        "id": "RcHh13mcP8Pc",
        "colab_type": "code",
        "outputId": "43034d9f-e806-4840-8b81-127acec65273",
        "colab": {
          "base_uri": "https://localhost:8080/",
          "height": 325
        }
      },
      "source": [
        "example_idx = 15\n",
        "\n",
        "bold_start, bold_end = \"\\033[1m\", \"\\033[0;0m\"\n",
        "text = vars(test_data.examples[example_idx])['text']\n",
        "headline = vars(test_data.examples[example_idx])['headline']\n",
        "\n",
        "print(f'{bold_start}Text{bold_end} = {\" \".join(word for word in text)}\\n')\n",
        "print(f'{bold_start}Headline{bold_end} = {\" \".join(word for word in headline)}\\n')\n",
        "\n",
        "prediction, attention = predict(text, ARTICLE, SUMMARY, model, device)\n",
        "\n",
        "print(f'{bold_start}Predicted Headline{bold_end} = {\" \".join(word for word in prediction)}')\n",
        "print(\"\\n\\t\\t\\t\\t\\t\\t\\tAttention Plot\")\n",
        "plot_attention(text, prediction, attention)"
      ],
      "execution_count": 0,
      "outputs": [
        {
          "output_type": "stream",
          "text": [
            "\u001b[1mText\u001b[0;0m = a chicago - hong kong united airlines flight was diverted to alaska after a passenger reportedly spread faeces all over the plane 's bathrooms and stuffed his shirt in a toilet . the man was met by fbi agents after the flight landed , as the incident took place midair and thereby falls within federal investigators ' jurisdiction . meanwhile , the aircraft was grounded overnight for maintenance .\n",
            "\n",
            "\u001b[1mHeadline\u001b[0;0m = flight diverted after man spreads poop in bathrooms\n",
            "\n",
            "\u001b[1mPredicted Headline\u001b[0;0m = man - old man to after after after <eos>\n",
            "\n",
            "\t\t\t\t\t\t\tAttention Plot\n"
          ],
          "name": "stdout"
        },
        {
          "output_type": "display_data",
          "data": {
            "image/png": "[encoded data removed]",
            "text/plain": [
              "<Figure size 2304x4608 with 1 Axes>"
            ]
          },
          "metadata": {
            "tags": [],
            "needs_background": "light"
          }
        }
      ]
    }
  ]
}